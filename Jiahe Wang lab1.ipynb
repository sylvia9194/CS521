{
 "cells": [
  {
   "cell_type": "code",
   "execution_count": 1,
   "id": "70f6dbd6",
   "metadata": {},
   "outputs": [],
   "source": [
    "w = 1\n",
    "x = 11\n",
    "y = 121\n",
    "z = 1331"
   ]
  },
  {
   "cell_type": "code",
   "execution_count": 13,
   "id": "cbefcf32",
   "metadata": {},
   "outputs": [
    {
     "name": "stdout",
     "output_type": "stream",
     "text": [
      "x+y = 132\n"
     ]
    }
   ],
   "source": [
    "print('x+y =', x+y) "
   ]
  },
  {
   "cell_type": "code",
   "execution_count": 71,
   "id": "9a8107a8",
   "metadata": {},
   "outputs": [
    {
     "name": "stdout",
     "output_type": "stream",
     "text": [
      "The sum of w and z is:  1332\n"
     ]
    }
   ],
   "source": [
    "sum = int(w) + int(z)\n",
    "print(\"The sum of w and z is: \", sum)"
   ]
  },
  {
   "cell_type": "code",
   "execution_count": 70,
   "id": "3df837e7",
   "metadata": {},
   "outputs": [
    {
     "name": "stdout",
     "output_type": "stream",
     "text": [
      "The average of x,  y, z and w is:  366.0\n"
     ]
    }
   ],
   "source": [
    "sum = int(w) + int(z) + int(x) + int(y) \n",
    "print(\"The average of x,  y, z and w is: \", sum/4)"
   ]
  },
  {
   "cell_type": "code",
   "execution_count": 67,
   "id": "e18d01ac",
   "metadata": {},
   "outputs": [
    {
     "name": "stdout",
     "output_type": "stream",
     "text": [
      "The difference between x and y is:  110\n"
     ]
    }
   ],
   "source": [
    "a = y - x\n",
    "print(\"The difference between x and y is: \",a) "
   ]
  },
  {
   "cell_type": "code",
   "execution_count": 66,
   "id": "3be57322",
   "metadata": {},
   "outputs": [
    {
     "name": "stdout",
     "output_type": "stream",
     "text": [
      "The quotient of z and x is: 121.0\n"
     ]
    }
   ],
   "source": [
    "b = z/x\n",
    "print(\"The quotient of z and x is:\", b)"
   ]
  },
  {
   "cell_type": "code",
   "execution_count": 68,
   "id": "6f1e40b4",
   "metadata": {},
   "outputs": [
    {
     "name": "stdout",
     "output_type": "stream",
     "text": [
      "The product of w, x, y, and z is: 1771561\n"
     ]
    }
   ],
   "source": [
    "c= x*y*z*w\n",
    "print(\"The product of w, x, y, and z is:\", c)"
   ]
  },
  {
   "cell_type": "code",
   "execution_count": 69,
   "id": "e1bc34e4",
   "metadata": {
    "scrolled": true
   },
   "outputs": [
    {
     "name": "stdout",
     "output_type": "stream",
     "text": [
      "The sum of a, b, and c is: 1771792.0\n"
     ]
    }
   ],
   "source": [
    "sum = a+b+c\n",
    "print(\"The sum of a, b, and c is:\", sum)"
   ]
  },
  {
   "cell_type": "code",
   "execution_count": 84,
   "id": "8a1b9bf0",
   "metadata": {},
   "outputs": [],
   "source": []
  },
  {
   "cell_type": "code",
   "execution_count": 93,
   "id": "2f5b4f44",
   "metadata": {},
   "outputs": [],
   "source": []
  },
  {
   "cell_type": "code",
   "execution_count": null,
   "id": "977056db",
   "metadata": {},
   "outputs": [],
   "source": []
  }
 ],
 "metadata": {
  "kernelspec": {
   "display_name": "Python 3",
   "language": "python",
   "name": "python3"
  },
  "language_info": {
   "codemirror_mode": {
    "name": "ipython",
    "version": 3
   },
   "file_extension": ".py",
   "mimetype": "text/x-python",
   "name": "python",
   "nbconvert_exporter": "python",
   "pygments_lexer": "ipython3",
   "version": "3.8.8"
  }
 },
 "nbformat": 4,
 "nbformat_minor": 5
}
